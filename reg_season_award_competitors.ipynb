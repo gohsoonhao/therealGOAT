{
 "cells": [
  {
   "cell_type": "code",
   "execution_count": 1,
   "metadata": {},
   "outputs": [],
   "source": [
    "import pandas as pd\n",
    "import numpy as np\n",
    "import matplotlib.pyplot as plt"
   ]
  },
  {
   "cell_type": "code",
   "execution_count": 4,
   "metadata": {},
   "outputs": [
    {
     "data": {
      "text/plain": [
       "Index(['Season', 'Age', 'Team', 'Lg', 'Pos', 'G', 'GS', 'MP', 'FG', 'FGA',\n",
       "       'FG%', '3P', '3PA', '3P%', '2P', '2PA', '2P%', 'eFG%', 'FT', 'FTA',\n",
       "       'FT%', 'ORB', 'DRB', 'TRB', 'AST', 'STL', 'BLK', 'TOV', 'PF', 'PTS',\n",
       "       'Awards'],\n",
       "      dtype='object')"
      ]
     },
     "execution_count": 4,
     "metadata": {},
     "output_type": "execute_result"
    }
   ],
   "source": [
    "#Shifting all data from xls format into cleaned up df\n",
    "lebron_reg_datalist = pd.read_html(\"data_files/Lebron_Regular_Season.xls\")\n",
    "lebron_reg_data = \"\"\n",
    "for i in lebron_reg_datalist:\n",
    "    lebron_reg_data = i\n",
    "lebron_reg_data = lebron_reg_data[:22]\n",
    "\n",
    "\n",
    "jordan_reg_datalist = pd.read_html(\"data_files/Jordan_Regular_Season.xls\")\n",
    "jordan_reg_data = \"\"\n",
    "for i in jordan_reg_datalist:\n",
    "    jordan_reg_data = i\n",
    "jordan_reg_data = jordan_reg_data[:19]\n",
    "\n",
    "lebron_reg_data.columns\n"
   ]
  }
 ],
 "metadata": {
  "kernelspec": {
   "display_name": "Python 3",
   "language": "python",
   "name": "python3"
  },
  "language_info": {
   "codemirror_mode": {
    "name": "ipython",
    "version": 3
   },
   "file_extension": ".py",
   "mimetype": "text/x-python",
   "name": "python",
   "nbconvert_exporter": "python",
   "pygments_lexer": "ipython3",
   "version": "3.10.11"
  }
 },
 "nbformat": 4,
 "nbformat_minor": 2
}
